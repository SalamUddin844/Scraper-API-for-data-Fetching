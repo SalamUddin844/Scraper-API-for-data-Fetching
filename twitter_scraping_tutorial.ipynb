{
  "cells": [
    {
      "cell_type": "markdown",
      "metadata": {
        "id": "view-in-github",
        "colab_type": "text"
      },
      "source": [
        "<a href=\"https://colab.research.google.com/github/SalamUddin844/Scraper-API-for-data-Fetching/blob/main/twitter_scraping_tutorial.ipynb\" target=\"_parent\"><img src=\"https://colab.research.google.com/assets/colab-badge.svg\" alt=\"Open In Colab\"/></a>"
      ]
    },
    {
      "cell_type": "code",
      "execution_count": null,
      "id": "60379c2e-ced9-47da-9c33-08529bae7af6",
      "metadata": {
        "colab": {
          "base_uri": "https://localhost:8080/"
        },
        "id": "60379c2e-ced9-47da-9c33-08529bae7af6",
        "outputId": "9423d862-b757-4d28-fed9-b17e9fdeaedf"
      },
      "outputs": [
        {
          "output_type": "stream",
          "name": "stdout",
          "text": [
            "Collecting ntscraper\n",
            "  Downloading ntscraper-0.3.17-py3-none-any.whl.metadata (7.4 kB)\n",
            "Requirement already satisfied: requests>=2.28 in /usr/local/lib/python3.10/dist-packages (from ntscraper) (2.32.3)\n",
            "Requirement already satisfied: beautifulsoup4>=4.11 in /usr/local/lib/python3.10/dist-packages (from ntscraper) (4.12.3)\n",
            "Requirement already satisfied: lxml>=4.9 in /usr/local/lib/python3.10/dist-packages (from ntscraper) (4.9.4)\n",
            "Requirement already satisfied: tqdm>=4.66 in /usr/local/lib/python3.10/dist-packages (from ntscraper) (4.66.5)\n",
            "Requirement already satisfied: soupsieve>1.2 in /usr/local/lib/python3.10/dist-packages (from beautifulsoup4>=4.11->ntscraper) (2.6)\n",
            "Requirement already satisfied: charset-normalizer<4,>=2 in /usr/local/lib/python3.10/dist-packages (from requests>=2.28->ntscraper) (3.4.0)\n",
            "Requirement already satisfied: idna<4,>=2.5 in /usr/local/lib/python3.10/dist-packages (from requests>=2.28->ntscraper) (3.10)\n",
            "Requirement already satisfied: urllib3<3,>=1.21.1 in /usr/local/lib/python3.10/dist-packages (from requests>=2.28->ntscraper) (2.2.3)\n",
            "Requirement already satisfied: certifi>=2017.4.17 in /usr/local/lib/python3.10/dist-packages (from requests>=2.28->ntscraper) (2024.8.30)\n",
            "Downloading ntscraper-0.3.17-py3-none-any.whl (12 kB)\n",
            "Installing collected packages: ntscraper\n",
            "Successfully installed ntscraper-0.3.17\n"
          ]
        }
      ],
      "source": [
        "pip install ntscraper"
      ]
    },
    {
      "cell_type": "code",
      "execution_count": null,
      "id": "9c9b7597-7bc3-4b68-a85e-d6aed4f351fb",
      "metadata": {
        "id": "9c9b7597-7bc3-4b68-a85e-d6aed4f351fb"
      },
      "outputs": [],
      "source": [
        "from ntscraper import Nitter"
      ]
    },
    {
      "cell_type": "code",
      "execution_count": null,
      "id": "be715eee-11b2-46b5-ba7d-02fc0bfdd64b",
      "metadata": {
        "colab": {
          "base_uri": "https://localhost:8080/"
        },
        "id": "be715eee-11b2-46b5-ba7d-02fc0bfdd64b",
        "outputId": "2ea0eccf-d08e-4224-91f6-62cade076219"
      },
      "outputs": [
        {
          "output_type": "stream",
          "name": "stderr",
          "text": [
            "Testing instances: 100%|██████████| 16/16 [00:21<00:00,  1.36s/it]\n"
          ]
        }
      ],
      "source": [
        "scraper = Nitter(log_level = 1,skip_instance_check= False)"
      ]
    },
    {
      "cell_type": "code",
      "execution_count": null,
      "id": "7204e94c-3645-48a5-a3a9-eea3237736d0",
      "metadata": {
        "colab": {
          "base_uri": "https://localhost:8080/"
        },
        "id": "7204e94c-3645-48a5-a3a9-eea3237736d0",
        "outputId": "843586c7-dd15-4c51-fba5-4d04e1bd77e5"
      },
      "outputs": [
        {
          "output_type": "stream",
          "name": "stderr",
          "text": [
            "INFO:root:No instance specified, using random instance https://nitter.privacydev.net\n",
            "WARNING:root:Empty page on https://nitter.privacydev.net\n"
          ]
        }
      ],
      "source": [
        "tweets = scraper.get_tweets(\"elonmusk\", mode=\"user\", number=10)"
      ]
    },
    {
      "cell_type": "code",
      "execution_count": null,
      "id": "874c2d74-c6c5-4fb1-b965-907760afb019",
      "metadata": {
        "id": "874c2d74-c6c5-4fb1-b965-907760afb019"
      },
      "outputs": [],
      "source": [
        "from pprint import pprint\n"
      ]
    },
    {
      "cell_type": "code",
      "execution_count": null,
      "id": "791dac48-6a00-4684-8bec-b46a45f232a3",
      "metadata": {
        "colab": {
          "base_uri": "https://localhost:8080/"
        },
        "id": "791dac48-6a00-4684-8bec-b46a45f232a3",
        "outputId": "52bea2c3-97b5-4c4f-d73e-72a61a44544f"
      },
      "outputs": [
        {
          "output_type": "stream",
          "name": "stdout",
          "text": [
            "{'threads': [], 'tweets': []}\n"
          ]
        }
      ],
      "source": [
        "pprint(tweets)"
      ]
    },
    {
      "cell_type": "code",
      "execution_count": null,
      "id": "b98fc2a5-f24c-4086-907e-886d33d26d1d",
      "metadata": {
        "id": "b98fc2a5-f24c-4086-907e-886d33d26d1d",
        "outputId": "0f91d5e9-4596-4a11-9a49-937dd07daa24",
        "colab": {
          "base_uri": "https://localhost:8080/"
        }
      },
      "outputs": [
        {
          "output_type": "execute_result",
          "data": {
            "text/plain": [
              "dict_keys(['tweets', 'threads'])"
            ]
          },
          "metadata": {},
          "execution_count": 18
        }
      ],
      "source": [
        "tweets.keys()"
      ]
    },
    {
      "cell_type": "code",
      "execution_count": null,
      "id": "cd637d45-40f6-40b0-bfa9-b3d13d3eca2d",
      "metadata": {
        "id": "cd637d45-40f6-40b0-bfa9-b3d13d3eca2d",
        "outputId": "7fba22ff-f14c-4646-9c39-4c8795b100fd",
        "colab": {
          "base_uri": "https://localhost:8080/",
          "height": 141
        }
      },
      "outputs": [
        {
          "output_type": "error",
          "ename": "IndexError",
          "evalue": "list index out of range",
          "traceback": [
            "\u001b[0;31m---------------------------------------------------------------------------\u001b[0m",
            "\u001b[0;31mIndexError\u001b[0m                                Traceback (most recent call last)",
            "\u001b[0;32m<ipython-input-19-36f573940222>\u001b[0m in \u001b[0;36m<cell line: 1>\u001b[0;34m()\u001b[0m\n\u001b[0;32m----> 1\u001b[0;31m \u001b[0mtweets\u001b[0m\u001b[0;34m[\u001b[0m\u001b[0;34m'tweets'\u001b[0m\u001b[0;34m]\u001b[0m\u001b[0;34m[\u001b[0m\u001b[0;36m0\u001b[0m\u001b[0;34m]\u001b[0m\u001b[0;34m\u001b[0m\u001b[0;34m\u001b[0m\u001b[0m\n\u001b[0m",
            "\u001b[0;31mIndexError\u001b[0m: list index out of range"
          ]
        }
      ],
      "source": [
        "tweets['tweets'][0]"
      ]
    },
    {
      "cell_type": "code",
      "execution_count": null,
      "id": "78432641-60d2-459a-bd5d-b55cca8739f0",
      "metadata": {
        "id": "78432641-60d2-459a-bd5d-b55cca8739f0",
        "outputId": "8c403627-58c0-4cd6-9926-c4d86a232358"
      },
      "outputs": [
        {
          "name": "stdout",
          "output_type": "stream",
          "text": [
            "10-Feb-24 11:39:42 - No instance specified, using random instance https://nitter.privacydev.net\n"
          ]
        }
      ],
      "source": [
        "elon_info = scraper.get_profile_info(username=\"elonmusk\")"
      ]
    },
    {
      "cell_type": "code",
      "execution_count": null,
      "id": "10ac2b57-a588-4e47-a79e-fb8b53ea2d1d",
      "metadata": {
        "id": "10ac2b57-a588-4e47-a79e-fb8b53ea2d1d",
        "outputId": "e5905209-cee4-447c-85f0-1ad324d3404e"
      },
      "outputs": [
        {
          "name": "stdout",
          "output_type": "stream",
          "text": [
            "{'bio': '',\n",
            " 'id': '44196397',\n",
            " 'image': 'https://pbs.twimg.com/profile_images/1683325380441128960/yRsRRjGO_400x400.jpg',\n",
            " 'joined': '8:12 PM - 2 Jun 2009',\n",
            " 'location': '',\n",
            " 'name': 'Elon Musk',\n",
            " 'stats': {'followers': 172044929,\n",
            "           'following': 536,\n",
            "           'likes': 42020,\n",
            "           'media': 0,\n",
            "           'tweets': 37679},\n",
            " 'username': '@elonmusk',\n",
            " 'website': ''}\n"
          ]
        }
      ],
      "source": [
        "pprint(elon_info)"
      ]
    },
    {
      "cell_type": "code",
      "execution_count": null,
      "id": "c54ebbc1-0b25-4d69-8ccd-8354d55c62ea",
      "metadata": {
        "id": "c54ebbc1-0b25-4d69-8ccd-8354d55c62ea"
      },
      "outputs": [],
      "source": [
        "data = {\n",
        "    'link':[],\n",
        "    'text':[],\n",
        "    'user':[],\n",
        "    'likes':[],\n",
        "    'quotes':[],\n",
        "    'retweets':[],\n",
        "    'comments':[]\n",
        "}\n",
        "\n",
        "for tweet in tweets['tweets']:\n",
        "    data['link'].append(tweet['link'])\n",
        "    data['text'].append(tweet['text'])\n",
        "    data['user'].append(tweet['user']['name'])\n",
        "    data['likes'].append(tweet['stats']['likes'])\n",
        "    data['quotes'].append(tweet['stats']['quotes'])\n",
        "    data['retweets'].append(tweet['stats']['retweets'])\n",
        "    data['comments'].append(tweet['stats']['comments'])"
      ]
    },
    {
      "cell_type": "code",
      "execution_count": null,
      "id": "01fc532c-a188-4c00-9409-e512ca642cd4",
      "metadata": {
        "id": "01fc532c-a188-4c00-9409-e512ca642cd4",
        "outputId": "e4924583-82e5-492c-8c7f-21dd017f5274"
      },
      "outputs": [
        {
          "data": {
            "text/plain": [
              "{'link': ['https://twitter.com/elonmusk/status/1755851825054433784#m',\n",
              "  'https://twitter.com/SpaceX/status/1756137580012388844#m',\n",
              "  'https://twitter.com/elonmusk/status/1756140099555696811#m',\n",
              "  'https://twitter.com/elonmusk/status/1756065619856752651#m',\n",
              "  'https://twitter.com/elonmusk/status/1756043720082763992#m',\n",
              "  'https://twitter.com/elonmusk/status/1756040128236007934#m',\n",
              "  'https://twitter.com/elonmusk/status/1756009604822020521#m',\n",
              "  'https://twitter.com/elonmusk/status/1756001480211873979#m',\n",
              "  'https://twitter.com/elonmusk/status/1755870691159626094#m',\n",
              "  'https://twitter.com/elonmusk/status/1755869551034544616#m'],\n",
              " 'text': ['Easy to watch any 𝕏 video on your TV by using AirPlay. Tap the icon on lower right.',\n",
              "  'Deployment of @Starlink satellites confirmed following a successful liftoff from California’s central coast',\n",
              "  'Hawaiian Airlines now has super fast @Starlink Internet!',\n",
              "  'Improvements to Community Notes',\n",
              "  'The Year of the Dragon',\n",
              "  'America, America!',\n",
              "  'This year, the @SpaceX Dragon spaceship will take astronauts the furthest they’ve been from Earth in over half a century',\n",
              "  'To keep scrolling 𝕏 while using AirPlay, turn off autoplay for videos',\n",
              "  'In a few months, I will discontinue my phone number and only use X for texts and audio/video calls',\n",
              "  '\\U0001fae1'],\n",
              " 'user': ['Elon Musk',\n",
              "  'SpaceX',\n",
              "  'Elon Musk',\n",
              "  'Elon Musk',\n",
              "  'Elon Musk',\n",
              "  'Elon Musk',\n",
              "  'Elon Musk',\n",
              "  'Elon Musk',\n",
              "  'Elon Musk',\n",
              "  'Elon Musk'],\n",
              " 'likes': [224781,\n",
              "  9074,\n",
              "  21347,\n",
              "  15713,\n",
              "  149280,\n",
              "  301492,\n",
              "  68712,\n",
              "  22414,\n",
              "  228492,\n",
              "  165617],\n",
              " 'quotes': [1071, 60, 125, 87, 1683, 1986, 535, 103, 4159, 1153],\n",
              " 'retweets': [32767, 979, 1699, 1773, 17417, 22147, 6484, 2602, 21412, 24480],\n",
              " 'comments': [12882, 677, 1516, 1795, 8475, 16257, 4859, 2273, 22757, 7790]}"
            ]
          },
          "execution_count": 14,
          "metadata": {},
          "output_type": "execute_result"
        }
      ],
      "source": [
        "data"
      ]
    },
    {
      "cell_type": "code",
      "execution_count": null,
      "id": "7dd106ca-85cd-4348-926d-872ef98d07be",
      "metadata": {
        "id": "7dd106ca-85cd-4348-926d-872ef98d07be",
        "outputId": "a77dcbb1-3af4-4708-ee7a-801767244ceb"
      },
      "outputs": [
        {
          "data": {
            "text/html": [
              "<div>\n",
              "<style scoped>\n",
              "    .dataframe tbody tr th:only-of-type {\n",
              "        vertical-align: middle;\n",
              "    }\n",
              "\n",
              "    .dataframe tbody tr th {\n",
              "        vertical-align: top;\n",
              "    }\n",
              "\n",
              "    .dataframe thead th {\n",
              "        text-align: right;\n",
              "    }\n",
              "</style>\n",
              "<table border=\"1\" class=\"dataframe\">\n",
              "  <thead>\n",
              "    <tr style=\"text-align: right;\">\n",
              "      <th></th>\n",
              "      <th>link</th>\n",
              "      <th>text</th>\n",
              "      <th>user</th>\n",
              "      <th>likes</th>\n",
              "      <th>quotes</th>\n",
              "      <th>retweets</th>\n",
              "      <th>comments</th>\n",
              "    </tr>\n",
              "  </thead>\n",
              "  <tbody>\n",
              "    <tr>\n",
              "      <th>0</th>\n",
              "      <td>https://twitter.com/elonmusk/status/1755851825...</td>\n",
              "      <td>Easy to watch any 𝕏 video on your TV by using ...</td>\n",
              "      <td>Elon Musk</td>\n",
              "      <td>224781</td>\n",
              "      <td>1071</td>\n",
              "      <td>32767</td>\n",
              "      <td>12882</td>\n",
              "    </tr>\n",
              "    <tr>\n",
              "      <th>1</th>\n",
              "      <td>https://twitter.com/SpaceX/status/175613758001...</td>\n",
              "      <td>Deployment of @Starlink satellites confirmed f...</td>\n",
              "      <td>SpaceX</td>\n",
              "      <td>9074</td>\n",
              "      <td>60</td>\n",
              "      <td>979</td>\n",
              "      <td>677</td>\n",
              "    </tr>\n",
              "    <tr>\n",
              "      <th>2</th>\n",
              "      <td>https://twitter.com/elonmusk/status/1756140099...</td>\n",
              "      <td>Hawaiian Airlines now has super fast @Starlink...</td>\n",
              "      <td>Elon Musk</td>\n",
              "      <td>21347</td>\n",
              "      <td>125</td>\n",
              "      <td>1699</td>\n",
              "      <td>1516</td>\n",
              "    </tr>\n",
              "    <tr>\n",
              "      <th>3</th>\n",
              "      <td>https://twitter.com/elonmusk/status/1756065619...</td>\n",
              "      <td>Improvements to Community Notes</td>\n",
              "      <td>Elon Musk</td>\n",
              "      <td>15713</td>\n",
              "      <td>87</td>\n",
              "      <td>1773</td>\n",
              "      <td>1795</td>\n",
              "    </tr>\n",
              "    <tr>\n",
              "      <th>4</th>\n",
              "      <td>https://twitter.com/elonmusk/status/1756043720...</td>\n",
              "      <td>The Year of the Dragon</td>\n",
              "      <td>Elon Musk</td>\n",
              "      <td>149280</td>\n",
              "      <td>1683</td>\n",
              "      <td>17417</td>\n",
              "      <td>8475</td>\n",
              "    </tr>\n",
              "  </tbody>\n",
              "</table>\n",
              "</div>"
            ],
            "text/plain": [
              "                                                link  \\\n",
              "0  https://twitter.com/elonmusk/status/1755851825...   \n",
              "1  https://twitter.com/SpaceX/status/175613758001...   \n",
              "2  https://twitter.com/elonmusk/status/1756140099...   \n",
              "3  https://twitter.com/elonmusk/status/1756065619...   \n",
              "4  https://twitter.com/elonmusk/status/1756043720...   \n",
              "\n",
              "                                                text       user   likes  \\\n",
              "0  Easy to watch any 𝕏 video on your TV by using ...  Elon Musk  224781   \n",
              "1  Deployment of @Starlink satellites confirmed f...     SpaceX    9074   \n",
              "2  Hawaiian Airlines now has super fast @Starlink...  Elon Musk   21347   \n",
              "3                    Improvements to Community Notes  Elon Musk   15713   \n",
              "4                             The Year of the Dragon  Elon Musk  149280   \n",
              "\n",
              "   quotes  retweets  comments  \n",
              "0    1071     32767     12882  \n",
              "1      60       979       677  \n",
              "2     125      1699      1516  \n",
              "3      87      1773      1795  \n",
              "4    1683     17417      8475  "
            ]
          },
          "execution_count": 15,
          "metadata": {},
          "output_type": "execute_result"
        }
      ],
      "source": [
        "import pandas as pd\n",
        "df = pd.DataFrame(data)\n",
        "df.head()"
      ]
    },
    {
      "cell_type": "code",
      "execution_count": null,
      "id": "ebe9ff7d-f42e-4ff6-b615-1a5a09e052a0",
      "metadata": {
        "id": "ebe9ff7d-f42e-4ff6-b615-1a5a09e052a0"
      },
      "outputs": [],
      "source": [
        "df.to_csv(\"Elon_data.csv\")"
      ]
    },
    {
      "cell_type": "code",
      "execution_count": null,
      "id": "6f92bcb8-6cee-481e-b002-caab9e3cc367",
      "metadata": {
        "id": "6f92bcb8-6cee-481e-b002-caab9e3cc367"
      },
      "outputs": [],
      "source": [
        "import pandas as pd\n",
        "scraper = Nitter()\n",
        "def create_tweets_dataset(username,no_of_tweets):\n",
        "    tweets = scraper.get_tweets(username,mode=\"user\",number=no_of_tweets)\n",
        "    data = {\n",
        "        'link':[],\n",
        "        'text':[],\n",
        "        'user':[],\n",
        "        'likes':[],\n",
        "        'quotes':[],\n",
        "        'retweets':[],\n",
        "        'comments':[]\n",
        "    }\n",
        "\n",
        "    for tweet in tweets['tweets']:\n",
        "        data['link'].append(tweet['link'])\n",
        "        data['text'].append(tweet['text'])\n",
        "        data['user'].append(tweet['user']['name'])\n",
        "        data['likes'].append(tweet['stats']['likes'])\n",
        "        data['quotes'].append(tweet['stats']['quotes'])\n",
        "        data['retweets'].append(tweet['stats']['retweets'])\n",
        "        data['comments'].append(tweet['stats']['comments'])\n",
        "    df = pd.DataFrame(data)\n",
        "    df.to_csv(username+\"_tweets_data.csv\")"
      ]
    },
    {
      "cell_type": "code",
      "execution_count": null,
      "id": "ba7a4a96-688b-4404-9b14-fbc9def7dc9c",
      "metadata": {
        "id": "ba7a4a96-688b-4404-9b14-fbc9def7dc9c",
        "outputId": "c26b851e-0935-47f9-955b-2433a89451b0"
      },
      "outputs": [
        {
          "name": "stderr",
          "output_type": "stream",
          "text": [
            "Testing instances: 100%|███████████████████████████████████████████████████████████████| 24/24 [01:09<00:00,  2.89s/it]"
          ]
        },
        {
          "name": "stdout",
          "output_type": "stream",
          "text": [
            "10-Feb-24 11:54:14 - No instance specified, using random instance https://n.opnxng.com\n"
          ]
        },
        {
          "name": "stderr",
          "output_type": "stream",
          "text": [
            "\n"
          ]
        },
        {
          "name": "stdout",
          "output_type": "stream",
          "text": [
            "10-Feb-24 11:54:25 - Current stats for MrBeast: 16 tweets, 0 threads...\n",
            "10-Feb-24 11:54:34 - Current stats for MrBeast: 27 tweets, 0 threads...\n",
            "10-Feb-24 11:54:42 - Current stats for MrBeast: 41 tweets, 0 threads...\n",
            "10-Feb-24 11:54:48 - Current stats for MrBeast: 57 tweets, 0 threads...\n",
            "10-Feb-24 11:54:57 - Current stats for MrBeast: 71 tweets, 0 threads...\n",
            "10-Feb-24 11:55:05 - Current stats for MrBeast: 81 tweets, 0 threads...\n",
            "10-Feb-24 11:55:13 - Current stats for MrBeast: 92 tweets, 0 threads...\n",
            "10-Feb-24 11:55:21 - Current stats for MrBeast: 100 tweets, 0 threads...\n"
          ]
        }
      ],
      "source": [
        "create_tweets_dataset(\"MrBeast\",100)"
      ]
    },
    {
      "cell_type": "code",
      "execution_count": null,
      "id": "31c7b85f-3ad8-491b-b212-75f35be3531b",
      "metadata": {
        "id": "31c7b85f-3ad8-491b-b212-75f35be3531b"
      },
      "outputs": [],
      "source": []
    },
    {
      "cell_type": "code",
      "execution_count": null,
      "id": "ea15949f-3053-40bc-b668-640c215be0de",
      "metadata": {
        "id": "ea15949f-3053-40bc-b668-640c215be0de"
      },
      "outputs": [],
      "source": []
    }
  ],
  "metadata": {
    "kernelspec": {
      "display_name": "Python 3",
      "language": "python",
      "name": "python3"
    },
    "language_info": {
      "codemirror_mode": {
        "name": "ipython",
        "version": 3
      },
      "file_extension": ".py",
      "mimetype": "text/x-python",
      "name": "python",
      "nbconvert_exporter": "python",
      "pygments_lexer": "ipython3",
      "version": "3.8.8"
    },
    "colab": {
      "provenance": [],
      "include_colab_link": true
    }
  },
  "nbformat": 4,
  "nbformat_minor": 5
}